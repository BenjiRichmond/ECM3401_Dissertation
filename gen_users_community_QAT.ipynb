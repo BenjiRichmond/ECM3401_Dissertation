{
 "cells": [
  {
   "cell_type": "code",
   "execution_count": 1,
   "id": "b8cbb318",
   "metadata": {},
   "outputs": [],
   "source": [
    "import pandas as pd\n",
    "import glob\n",
    "import os"
   ]
  },
  {
   "cell_type": "code",
   "execution_count": 2,
   "id": "6a0d7ab1",
   "metadata": {},
   "outputs": [],
   "source": [
    "communitiesR = pd.read_csv('RETWEET_NETWORK_QAT/QATAR COMMUNITIES.csv').rename(\n",
    "    columns={'Id': 'user_id', 'modularity_class': 'community'}\n",
    ")\n",
    "communitiesC = pd.read_csv('COMMENT_NETWORK_QAT/QATAR COMMUNITIES.csv').rename(\n",
    "    columns={'Id': 'user_id', 'modularity_class': 'community'}\n",
    ")\n"
   ]
  },
  {
   "cell_type": "code",
   "execution_count": 3,
   "id": "0184cc91",
   "metadata": {},
   "outputs": [],
   "source": [
    "files = glob.glob(os.path.join('QATAR/inside', \"*.pkl.gz\"))\n",
    "\n",
    "files_doneR = []\n",
    "files_doneC = []\n",
    "for file in files:\n",
    "    df = pd.read_pickle(file)\n",
    "    \n",
    "    df = df[df['user.id_str'] != df['retweeted_status.user.id_str']]\n",
    "\n",
    "    df['user.id_str'] = df['user.id_str'].astype(int)\n",
    "\n",
    "    \n",
    "    df = df[['user.id_str', 'hashtags', 'lang']]\n",
    "\n",
    "\n",
    "    dfR = df.merge(communitiesR, left_on='user.id_str', right_on='user_id', how='inner')\n",
    "    dfC = df.merge(communitiesC, left_on='user.id_str', right_on='user_id', how='inner')\n",
    "    \n",
    "    files_doneR.append(dfR)\n",
    "    files_doneC.append(dfC)\n",
    "\n",
    "comments_dfR = pd.concat(files_doneR, ignore_index=True)\n",
    "comments_dfC = pd.concat(files_doneC, ignore_index=True)\n",
    "\n",
    "comments_dfR.to_pickle('users_community_RETWEET_QAT.pkl')\n",
    "comments_dfC.to_pickle('users_community_COMMENT_QAT.pkl')"
   ]
  }
 ],
 "metadata": {
  "kernelspec": {
   "display_name": "environment",
   "language": "python",
   "name": "python3"
  },
  "language_info": {
   "codemirror_mode": {
    "name": "ipython",
    "version": 3
   },
   "file_extension": ".py",
   "mimetype": "text/x-python",
   "name": "python",
   "nbconvert_exporter": "python",
   "pygments_lexer": "ipython3",
   "version": "3.11.11"
  }
 },
 "nbformat": 4,
 "nbformat_minor": 5
}
