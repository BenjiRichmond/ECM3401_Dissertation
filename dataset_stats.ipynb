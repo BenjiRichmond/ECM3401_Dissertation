{
 "cells": [
  {
   "cell_type": "code",
   "execution_count": 2,
   "metadata": {},
   "outputs": [],
   "source": [
    "import glob\n",
    "import os\n",
    "import pandas as pd"
   ]
  },
  {
   "cell_type": "code",
   "execution_count": null,
   "metadata": {},
   "outputs": [
    {
     "name": "stdout",
     "output_type": "stream",
     "text": [
      "44752527\n"
     ]
    }
   ],
   "source": [
    "files = glob.glob(os.path.join('RUSSIA/PKL', \"*.pkl.gz\"))\n",
    "files_done = []\n",
    "sum = 0\n",
    "for file in files:\n",
    "        df = pd.read_pickle(file)\n",
    "        sum = sum + len(df)\n",
    "print(sum)"
   ]
  },
  {
   "cell_type": "code",
   "execution_count": null,
   "metadata": {},
   "outputs": [
    {
     "name": "stdout",
     "output_type": "stream",
     "text": [
      "72098354\n"
     ]
    }
   ],
   "source": [
    "files = glob.glob(os.path.join('QATAR/PKL', \"*.pkl.gz\"))\n",
    "files_done = []\n",
    "sum = 0\n",
    "for file in files:\n",
    "        df = pd.read_pickle(file)\n",
    "        sum = sum + len(df)\n",
    "print(sum)"
   ]
  }
 ],
 "metadata": {
  "kernelspec": {
   "display_name": "Python 3",
   "language": "python",
   "name": "python3"
  },
  "language_info": {
   "codemirror_mode": {
    "name": "ipython",
    "version": 3
   },
   "file_extension": ".py",
   "mimetype": "text/x-python",
   "name": "python",
   "nbconvert_exporter": "python",
   "pygments_lexer": "ipython3",
   "version": "3.13.0"
  }
 },
 "nbformat": 4,
 "nbformat_minor": 2
}
