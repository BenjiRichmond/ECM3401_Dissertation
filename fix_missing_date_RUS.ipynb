{
 "cells": [
  {
   "cell_type": "code",
   "execution_count": null,
   "metadata": {},
   "outputs": [],
   "source": [
    "import pandas as pd\n",
    "\n",
    "df = pd.read_pickle('RUSSIA/PKL/russia2018_tweets-20180712.pkl.gz', compression='gzip')\n",
    "\n",
    "df['timestamp_ms'] = pd.to_numeric(df['timestamp_ms'], errors='coerce')\n",
    "twelve7 = df[df['timestamp_ms'] < 1531450800000]\n",
    "thirteen7 = df[df['timestamp_ms'] >= 1531450800000]\n",
    "df.to_pickle('TEST.pkl.gz', compression='gzip')\n",
    "twelve7.to_pickle('RUSSIA/PKL/russia2018_tweets-20180712.pkl.gz', compression='gzip')\n",
    "thirteen7.to_pickle('RUSSIA/PKL/russia2018_tweets-20180713.pkl.gz', compression='gzip')"
   ]
  }
 ],
 "metadata": {
  "kernelspec": {
   "display_name": "environment",
   "language": "python",
   "name": "python3"
  },
  "language_info": {
   "codemirror_mode": {
    "name": "ipython",
    "version": 3
   },
   "file_extension": ".py",
   "mimetype": "text/x-python",
   "name": "python",
   "nbconvert_exporter": "python",
   "pygments_lexer": "ipython3",
   "version": "3.11.11"
  }
 },
 "nbformat": 4,
 "nbformat_minor": 2
}
