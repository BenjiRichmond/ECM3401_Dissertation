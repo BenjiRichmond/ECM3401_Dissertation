{
 "cells": [
  {
   "cell_type": "code",
   "execution_count": null,
   "metadata": {},
   "outputs": [],
   "source": [
    "import pandas as pd\n",
    "\n",
    "df = pd.read_pickle('QATAR/PKL/qatar2022_tweets-20221209.pkl.gz', compression='gzip')\n",
    "\n",
    "df['timestamp_ms'] = pd.to_numeric(df['timestamp_ms'], errors='coerce')\n",
    "\n",
    "nine12 = df[df['timestamp_ms'] < 1670630381000]\n",
    "ten12 = df[df['timestamp_ms'] >= 1670630381000]\n",
    "\n",
    "nine12.to_pickle('QATAR/PKL/qatar2022_tweets-20221209.pkl.gz', compression='gzip')\n",
    "ten12.to_pickle('QATAR/PKL/qatar2022_tweets-20221210.pkl.gz', compression='gzip')"
   ]
  }
 ],
 "metadata": {
  "kernelspec": {
   "display_name": "environment",
   "language": "python",
   "name": "python3"
  },
  "language_info": {
   "codemirror_mode": {
    "name": "ipython",
    "version": 3
   },
   "file_extension": ".py",
   "mimetype": "text/x-python",
   "name": "python",
   "nbconvert_exporter": "python",
   "pygments_lexer": "ipython3",
   "version": "3.11.11"
  }
 },
 "nbformat": 4,
 "nbformat_minor": 2
}
